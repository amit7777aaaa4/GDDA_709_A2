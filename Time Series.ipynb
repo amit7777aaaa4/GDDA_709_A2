{
 "cells": [
  {
   "cell_type": "code",
   "execution_count": 21,
   "id": "60a65735-5698-44e0-ac00-a441658e281f",
   "metadata": {},
   "outputs": [],
   "source": [
    "from pyspark.sql import SparkSession\n",
    "from pyspark.sql.functions import col, lag, when, lit\n",
    "from pyspark.sql.window import Window\n",
    "from pyspark.ml.feature import VectorAssembler, MinMaxScaler\n",
    "\n",
    "# Initialize Spark\n",
    "spark = SparkSession.builder.appName(\"StockPricePrediction\").getOrCreate()"
   ]
  },
  {
   "cell_type": "code",
   "execution_count": 22,
   "id": "2fa40cf5-67a5-469a-82e4-8247ce1e88f0",
   "metadata": {},
   "outputs": [],
   "source": [
    "# Load Data\n",
    "df = spark.read.csv(\"COCO COLA.csv\", header=True, inferSchema=True)"
   ]
  },
  {
   "cell_type": "code",
   "execution_count": 23,
   "id": "18ecfa39-8d2f-4232-a5d5-829b628a43f9",
   "metadata": {},
   "outputs": [],
   "source": [
    "# Feature Engineering\n",
    "window_spec = Window().orderBy(\"Date\")\n",
    "df = df.withColumn(\"Prev_Close\", lag(\"Close\").over(window_spec))\n",
    "df = df.withColumn(\"Price_Movement\", when(col(\"Close\") > col(\"Open\"), 1).otherwise(0))"
   ]
  },
  {
   "cell_type": "code",
   "execution_count": 24,
   "id": "a0b088c7-4e7b-415c-91a2-63ae6bbda084",
   "metadata": {},
   "outputs": [],
   "source": [
    "# Remove Nulls (from lag function)\n",
    "df = df.dropna()"
   ]
  },
  {
   "cell_type": "code",
   "execution_count": 25,
   "id": "cd75e2bb-3e11-412f-be6a-1652ce99362c",
   "metadata": {},
   "outputs": [],
   "source": [
    "# Feature Selection\n",
    "feature_cols = [\"Prev_Close\", \"Open\", \"High\", \"Low\", \"Volume\"]\n",
    "assembler = VectorAssembler(inputCols=feature_cols, outputCol=\"features\")\n",
    "df = assembler.transform(df)"
   ]
  },
  {
   "cell_type": "code",
   "execution_count": 26,
   "id": "0d89d882-8c1c-429c-8f12-282d4b89808f",
   "metadata": {},
   "outputs": [
    {
     "name": "stdout",
     "output_type": "stream",
     "text": [
      "+--------------------+--------+--------------+\n",
      "|     scaled_features|   Close|Price_Movement|\n",
      "+--------------------+--------+--------------+\n",
      "|[0.00118395786148...|0.257161|             0|\n",
      "|[0.00108619007685...|0.259115|             1|\n",
      "|[0.00111879046101...|0.253255|             0|\n",
      "|[0.00102102267638...|0.250651|             0|\n",
      "|[9.77577742740058...|0.255208|             1|\n",
      "+--------------------+--------+--------------+\n",
      "only showing top 5 rows\n",
      "\n"
     ]
    }
   ],
   "source": [
    "# Normalize Features\n",
    "scaler = MinMaxScaler(inputCol=\"features\", outputCol=\"scaled_features\")\n",
    "df = scaler.fit(df).transform(df)\n",
    "\n",
    "df = df.select(\"scaled_features\", \"Close\", \"Price_Movement\")\n",
    "\n",
    "df.show(5)"
   ]
  },
  {
   "cell_type": "code",
   "execution_count": 30,
   "id": "ece2e64f-57ed-4ea7-8527-ffd1f47fba51",
   "metadata": {},
   "outputs": [],
   "source": [
    "from pyspark.ml.regression import RandomForestRegressor\n",
    "from pyspark.ml.evaluation import RegressionEvaluator\n",
    "\n",
    "# Train Random Forest Model\n",
    "rf = RandomForestRegressor(featuresCol=\"scaled_features\", labelCol=\"Close\", numTrees=50)"
   ]
  },
  {
   "cell_type": "code",
   "execution_count": 31,
   "id": "1b00832f-b8ed-4d10-b247-b7a559d82d62",
   "metadata": {},
   "outputs": [],
   "source": [
    "# Train Model\n",
    "rf_model = rf.fit(train)\n",
    "\n",
    "# Predictions\n",
    "rf_predictions = rf_model.transform(test)"
   ]
  },
  {
   "cell_type": "code",
   "execution_count": 32,
   "id": "0fd5e97f-e3e6-4f62-aa35-fde418be07cb",
   "metadata": {},
   "outputs": [
    {
     "name": "stdout",
     "output_type": "stream",
     "text": [
      "Random Forest RMSE: 0.794\n",
      "+--------+-------------------+\n",
      "|   Close|         prediction|\n",
      "+--------+-------------------+\n",
      "|0.192708|0.33743747840463195|\n",
      "|0.195313|0.33743747840463195|\n",
      "|0.199219|0.33743747840463195|\n",
      "|0.198242|0.33743747840463195|\n",
      "|0.203125|0.33743747840463195|\n",
      "+--------+-------------------+\n",
      "only showing top 5 rows\n",
      "\n"
     ]
    }
   ],
   "source": [
    "# Evaluate Model\n",
    "evaluator = RegressionEvaluator(labelCol=\"Close\", metricName=\"rmse\")\n",
    "rmse = evaluator.evaluate(rf_predictions)\n",
    "print(f\"Random Forest RMSE: {rmse:.3f}\")\n",
    "\n",
    "# Show Results\n",
    "rf_predictions.select(\"Close\", \"prediction\").show(5)"
   ]
  },
  {
   "cell_type": "code",
   "execution_count": null,
   "id": "061733ba-2b8b-495c-aec7-8e52acc7ac95",
   "metadata": {},
   "outputs": [],
   "source": []
  }
 ],
 "metadata": {
  "kernelspec": {
   "display_name": "Python 3 (ipykernel)",
   "language": "python",
   "name": "python3"
  },
  "language_info": {
   "codemirror_mode": {
    "name": "ipython",
    "version": 3
   },
   "file_extension": ".py",
   "mimetype": "text/x-python",
   "name": "python",
   "nbconvert_exporter": "python",
   "pygments_lexer": "ipython3",
   "version": "3.11.7"
  }
 },
 "nbformat": 4,
 "nbformat_minor": 5
}
